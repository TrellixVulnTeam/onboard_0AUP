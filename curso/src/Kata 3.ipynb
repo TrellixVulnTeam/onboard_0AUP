{
 "cells": [
  {
   "cell_type": "code",
   "execution_count": 42,
   "metadata": {},
   "outputs": [
    {
     "name": "stdout",
     "output_type": "stream",
     "text": [
      "todo esta chido y coqueto por aqui\n"
     ]
    }
   ],
   "source": [
    "velocidad = input()\n",
    "\n",
    "if int(velocidad) > 25:\n",
    "    print(\"NOOOOOO MAMEEEEEEES VAMOS A MORIIIIIIIIIIR!!!\")\n",
    "else:\n",
    "    print(\"todo esta chido y coqueto por aqui\")"
   ]
  },
  {
   "cell_type": "code",
   "execution_count": 52,
   "metadata": {},
   "outputs": [
    {
     "name": "stdout",
     "output_type": "stream",
     "text": [
      "todo esta chido y coqueto por aqui\n"
     ]
    }
   ],
   "source": [
    "velocidad = input()\n",
    "\n",
    "if int(velocidad) > 20:\n",
    "    print(\"Busquen el pinche asteroide nos vamos a morir!!!\")\n",
    "elif int(velocidad) == 20:\n",
    "    print(\"Busquen el pinche asteroide nos vamos a morir!!!\")\n",
    "else:\n",
    "    print(\"todo esta chido y coqueto por aqui\")"
   ]
  },
  {
   "cell_type": "code",
   "execution_count": 1,
   "metadata": {},
   "outputs": [
    {
     "name": "stdout",
     "output_type": "stream",
     "text": [
      "Verdeeeeeee nos vamos a morir!\n"
     ]
    }
   ],
   "source": [
    "velocidad = input(\"a que velocidad viene el asteriode? (km)\")\n",
    "tamaño = input(\"cual es el tamaño del asteriode? (mts)\")\n",
    "\n",
    "if int(velocidad) >= 20 and (int(tamaño) > 25 and int(tamaño) < 1000):\n",
    "    print(\"Verdeeeeeee nos vamos a morir!\")\n",
    "elif int(velocidad) < 20 and (int(tamaño) <= 25 ):\n",
    "    print(\"todo ta chido\")\n",
    "elif int(velocidad) < 20 and (int(tamaño) > 25 and int(tamaño) < 1000):\n",
    "    print(\"sptm vamos a morir lento\")\n",
    "else:\n",
    "    print(\"no hay tos todo ta chido\")"
   ]
  }
 ],
 "metadata": {
  "interpreter": {
   "hash": "ea181320a2b2dcca8efe7669b3b6ea3d511fe591b008ba2961b75cbbd95bd0b4"
  },
  "kernelspec": {
   "display_name": "Python 3.9.10 64-bit (windows store)",
   "language": "python",
   "name": "python3"
  },
  "language_info": {
   "codemirror_mode": {
    "name": "ipython",
    "version": 3
   },
   "file_extension": ".py",
   "mimetype": "text/x-python",
   "name": "python",
   "nbconvert_exporter": "python",
   "pygments_lexer": "ipython3",
   "version": "3.9.10"
  },
  "orig_nbformat": 4
 },
 "nbformat": 4,
 "nbformat_minor": 2
}
