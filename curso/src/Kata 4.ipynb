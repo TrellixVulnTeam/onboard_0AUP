{
 "cells": [
  {
   "cell_type": "markdown",
   "metadata": {},
   "source": [
    "Cadenas"
   ]
  },
  {
   "cell_type": "code",
   "execution_count": 22,
   "metadata": {},
   "outputs": [
    {
     "name": "stdout",
     "output_type": "stream",
     "text": [
      "la luna \"no tiene atmosfe'ra\".\n",
      "ningun sonido se puede escuchar en la luna.\n"
     ]
    }
   ],
   "source": [
    "fact = \"\"\"la luna \"no tiene atmosfe'ra\".\\n\"\"\"\n",
    "fact2 = fact + 'ningun sonido se puede escuchar en la luna.'\n",
    "print(fact2)"
   ]
  },
  {
   "cell_type": "markdown",
   "metadata": {},
   "source": [
    "Metodos String en Pyhton"
   ]
  },
  {
   "cell_type": "code",
   "execution_count": 23,
   "metadata": {},
   "outputs": [
    {
     "data": {
      "text/plain": [
       "'Temperaturas Y Hechos Acerca De La Luna'"
      ]
     },
     "execution_count": 23,
     "metadata": {},
     "output_type": "execute_result"
    }
   ],
   "source": [
    "titulo = \"temperaturas y hechos acerca de la luna\"\n",
    "titulo.title()"
   ]
  },
  {
   "cell_type": "markdown",
   "metadata": {},
   "source": [
    "Dividir una Cadena"
   ]
  },
  {
   "cell_type": "code",
   "execution_count": 24,
   "metadata": {},
   "outputs": [
    {
     "data": {
      "text/plain": [
       "['En el dia: 260 F', ' En la noche: -280 F']"
      ]
     },
     "execution_count": 24,
     "metadata": {},
     "output_type": "execute_result"
    }
   ],
   "source": [
    "temperatura = '''En el dia: 260 F\\n En la noche: -280 F'''\n",
    "temperatura .split('\\n')"
   ]
  },
  {
   "cell_type": "markdown",
   "metadata": {},
   "source": [
    "Buscar una Cadena"
   ]
  },
  {
   "cell_type": "code",
   "execution_count": 52,
   "metadata": {},
   "outputs": [
    {
     "name": "stdout",
     "output_type": "stream",
     "text": [
      "65\n",
      "2\n",
      " -60 ºc \n"
     ]
    }
   ],
   "source": [
    "temperatures = \"\"\"Saturno tiene una temperatura en el dia de -170 ºC, mientras que Marte tiene -28ºC. Marte tiene una temperatura promedio de: -60 ºC \"\"\".lower()\n",
    "print(temperatures.find('marte'))\n",
    "print(temperatures.count('marte'))\n",
    "parts = temperatures.split(':')\n",
    "parts2 = parts[-1]\n",
    "print(parts2)\n"
   ]
  },
  {
   "cell_type": "markdown",
   "metadata": {},
   "source": [
    "Kata 4"
   ]
  },
  {
   "cell_type": "code",
   "execution_count": 20,
   "metadata": {},
   "outputs": [
    {
     "name": "stdout",
     "output_type": "stream",
     "text": [
      "['Interesting facts about the Moon', \"The Moon is Earth's only satellite\", 'There are several interesting facts about the Moon and how it affects life here on Earth', 'On average, the Moon moves 4cm away from the Earth every year', 'This yearly drift is not significant enough to cause immediate effects on Earth', 'The highest daylight temperature of the Moon is 127 C.']\n",
      "On average, the Moon moves 4cm away from the Earth every year\n",
      "This yearly drift is not significant enough to cause immediate effects on Earth\n",
      "The highest daylight temperature of the Moon is 127 Celsius.\n"
     ]
    }
   ],
   "source": [
    "texto = \"\"\"Interesting facts about the Moon. The Moon is Earth's only satellite. There are several interesting facts about the Moon and how it affects life here on Earth. On average, the Moon moves 4cm away from the Earth every year. This yearly drift is not significant enough to cause immediate effects on Earth. The highest daylight temperature of the Moon is 127 C.\"\"\"\n",
    "partes = texto.split('. ')\n",
    "partes\n",
    "print(partes)\n",
    "media = [\"average\"]\n",
    "temp = [\"temperature\"]\n",
    "distancia = [\"drift\"]\n",
    "\n",
    "for oracion1 in partes:\n",
    "    for clave in media:\n",
    "        if clave in oracion1:\n",
    "            print(oracion1)\n",
    "for oracion2 in partes:\n",
    "    for clave in distancia:\n",
    "        if clave in oracion2:\n",
    "            print(oracion2)\n",
    "for oracion3 in partes:\n",
    "    for clave in temp:\n",
    "        if clave in oracion3:\n",
    "            print(oracion3.replace(' C', ' Celsius'))"
   ]
  },
  {
   "cell_type": "code",
   "execution_count": 8,
   "metadata": {},
   "outputs": [
    {
     "name": "stdout",
     "output_type": "stream",
     "text": [
      "Datos De Gravedad Sobre Ganímedes\n",
      "------------------------------------\n",
      "Nombre del planeta: Marte\n",
      "Gravedad en Ganímedes: 1.4 mts\n"
     ]
    }
   ],
   "source": [
    "satelite = \"Ganímedes\"\n",
    "gravedad = 0.00143  # en kms\n",
    "planeta = \"Marte\"\n",
    "\n",
    "titulo = f'datos de gravedad sobre {satelite}'\n",
    "datos = f\"{'------------------------------------'}\\nNombre del planeta: {planeta}\\nGravedad en {satelite}: {round(gravedad, 4) * 1000} mts\"\n",
    "plantilla = f\"{titulo.title()}\\n{datos}\"\n",
    "print(plantilla)"
   ]
  }
 ],
 "metadata": {
  "interpreter": {
   "hash": "ea181320a2b2dcca8efe7669b3b6ea3d511fe591b008ba2961b75cbbd95bd0b4"
  },
  "kernelspec": {
   "display_name": "Python 3.9.10 64-bit (windows store)",
   "language": "python",
   "name": "python3"
  },
  "language_info": {
   "codemirror_mode": {
    "name": "ipython",
    "version": 3
   },
   "file_extension": ".py",
   "mimetype": "text/x-python",
   "name": "python",
   "nbconvert_exporter": "python",
   "pygments_lexer": "ipython3",
   "version": "3.9.10"
  },
  "orig_nbformat": 4
 },
 "nbformat": 4,
 "nbformat_minor": 2
}
