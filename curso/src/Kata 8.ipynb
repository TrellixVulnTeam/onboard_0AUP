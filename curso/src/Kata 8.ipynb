{
 "cells": [
  {
   "cell_type": "markdown",
   "metadata": {},
   "source": [
    "# Diccionarios"
   ]
  },
  {
   "cell_type": "code",
   "execution_count": 13,
   "metadata": {},
   "outputs": [
    {
     "name": "stdout",
     "output_type": "stream",
     "text": [
      "Earth\n",
      "Earth\n",
      "Makemake\n",
      "Jupiter\n",
      "4333\n",
      "Jupiter polar diameter: 133709\n"
     ]
    }
   ],
   "source": [
    "planet = {\n",
    "    'name': 'Earth',\n",
    "    'moons': 1\n",
    "}\n",
    "\n",
    "print(planet.get('name'))\n",
    "\n",
    "# Muestra Earth\n",
    "\n",
    "# planet['name'] es idéntico a usar planet.get('name')\n",
    "print(planet['name'])\n",
    "\n",
    "# Muestra Earth\n",
    "\n",
    "planet.update({'name': 'Makemake'})\n",
    "\n",
    "# name ahora es Makemake\n",
    "\n",
    "planet['name'] = 'Makemake'\n",
    "\n",
    "# name is now set to Makemake\n",
    "print(planet['name'])\n",
    "\n",
    "# Usando update\n",
    "planet.update({\n",
    "    'name': 'Jupiter',\n",
    "    'moons': 79\n",
    "})\n",
    "\n",
    "# Usando corchetes\n",
    "planet['name'] = 'Jupiter'\n",
    "planet['moons'] = 79\n",
    "print(planet['name'])\n",
    "\n",
    "planet['orbital period'] = 4333\n",
    "\n",
    "# el diccionario planet ahora contiene: {\n",
    "#   name: 'jupiter'\n",
    "#   moons: 79\n",
    "#   orbital period: 4333\n",
    "# }\n",
    "print(planet['orbital period'])\n",
    "\n",
    "planet.pop('orbital period')\n",
    "\n",
    "# el diccionario planet ahora contiene: {\n",
    "#   name: 'jupiter'\n",
    "#   moons: 79\n",
    "# }\n",
    "\n",
    "# Añadimos los datos\n",
    "planet['diameter (km)'] = {\n",
    "    'polar': 133709,\n",
    "    'equatorial': 142984\n",
    "}\n",
    "\n",
    "# el diccionario planet ahora contiene: {\n",
    "#   name: 'Jupiter'\n",
    "#   moons: 79\n",
    "#   diameter (km): {\n",
    "#      polar: 133709\n",
    "#      equatorial: 142984\n",
    "#   }\n",
    "# }\n",
    "\n",
    "print(f'''{planet['name']} polar diameter: {planet['diameter (km)']['polar']}''')\n",
    "\n",
    "# Salida: Jupiter polar diameter: 133709\n"
   ]
  },
  {
   "cell_type": "markdown",
   "metadata": {},
   "source": [
    "Datos dinamicos"
   ]
  },
  {
   "cell_type": "code",
   "execution_count": 62,
   "metadata": {},
   "outputs": [
    {
     "name": "stdout",
     "output_type": "stream",
     "text": [
      "october: 3.5cm\n",
      "november: 4.2cm\n",
      "december: 2.1cm\n",
      "\n",
      "\n",
      "october: 3.5cm\n",
      "november: 4.2cm\n",
      "december: 3.1cm\n",
      "Hubo un total de 10.8cm de precipitacion, en el ultimo cuarto del año.\n"
     ]
    }
   ],
   "source": [
    "rainfall = {\n",
    "    'october': 3.5,\n",
    "    'november': 4.2,\n",
    "    'december': 2.1\n",
    "}\n",
    "\n",
    "for key in rainfall.keys():\n",
    "    print(f'{key}: {rainfall[key]}cm')\n",
    "\n",
    "# El valor de december: 2.1cm\n",
    "\n",
    "# Si, 'december' existe en rainfall\n",
    "if 'december' in rainfall:\n",
    "    # rainfall [en la posición december] es igual a\n",
    "    # rainfall [en la posición december] + 1 (2.1+1)\n",
    "    rainfall['december'] = rainfall['december'] + 1\n",
    "\n",
    "# Si no:\n",
    "else:\n",
    "\n",
    "    # rainfall [en la posición december] es igual a 1\n",
    "    rainfall['december'] = 1\n",
    "\n",
    "# Como december si existe, el valor será 3.1\n",
    "print('\\n')\n",
    "for key in rainfall.keys():\n",
    "    print(f'{key}: {rainfall[key]}cm')\n",
    "\n",
    "\n",
    "#Total de precipitaciones 0\n",
    "total_rainfall = 0\n",
    "\n",
    "# Para cada valor en los valores de rainfall\n",
    "for value in rainfall.values():\n",
    "\n",
    "    # El total de las precipitaciones será igual a ese mismo + el valor que se está iterando\n",
    "\n",
    "    total_rainfall = total_rainfall + value\n",
    "\n",
    "# Muestra 'Hay un total de precipitaciones (el valor total) en centímetros en el último cuarto (haciendo referencia al cuarto del año)\n",
    "\n",
    "print(f'Hubo un total de {total_rainfall}cm de precipitacion, en el ultimo cuarto del año.')\n",
    "\n",
    "# Salida:\n",
    "# There was 10.8cm in the last quarter\n"
   ]
  },
  {
   "cell_type": "markdown",
   "metadata": {},
   "source": [
    "# Kata 8"
   ]
  },
  {
   "cell_type": "markdown",
   "metadata": {},
   "source": [
    "Ejercicio 1"
   ]
  },
  {
   "cell_type": "code",
   "execution_count": 59,
   "metadata": {},
   "outputs": [
    {
     "name": "stdout",
     "output_type": "stream",
     "text": [
      "El planeta Marte \n",
      "Tiene:\n",
      " 2 lunas. \n",
      "Circunferencia polar de: 6752 \n",
      "Circunferencia Ecuatorial de: 6792\n"
     ]
    }
   ],
   "source": [
    "planeta = {\n",
    "    'nombre' : 'Marte',\n",
    "    'lunas' : 2\n",
    "}\n",
    "\n",
    "planeta['circunferencia'] = {'polar':6752,'ecuatorial':6792}\n",
    "\n",
    "print(\"El planeta\", planeta['nombre'],\"\\nTiene:\\n\", planeta['lunas'],\"lunas.\",\"\\nCircunferencia polar de:\", planeta['circunferencia']['polar'], \"\\nCircunferencia Ecuatorial de:\", planeta['circunferencia']['ecuatorial'])\n"
   ]
  },
  {
   "cell_type": "markdown",
   "metadata": {},
   "source": [
    "Ejercicio 2"
   ]
  },
  {
   "cell_type": "code",
   "execution_count": 5,
   "metadata": {},
   "outputs": [
    {
     "name": "stdout",
     "output_type": "stream",
     "text": [
      "dict_values([0, 0, 1, 2, 79, 82, 27, 14, 5, 2, 1, 1])\n",
      "12\n",
      "El promedio de lunas en los planetas es: 17.83\n"
     ]
    }
   ],
   "source": [
    "lunas_planeta = {\n",
    "    'mercurio': 0,\n",
    "    'venus': 0,\n",
    "    'tierra': 1,\n",
    "    'marte': 2,\n",
    "    'jupiter': 79,\n",
    "    'saturno': 82,\n",
    "    'urano': 27,\n",
    "    'neptuno': 14,\n",
    "    'pluto': 5,\n",
    "    'haumea': 2,\n",
    "    'makemake': 1,\n",
    "    'eris': 1\n",
    "}\n",
    "\n",
    "lunas = lunas_planeta.values()\n",
    "nplanetas = len(lunas_planeta)\n",
    "\n",
    "print(lunas)\n",
    "print(nplanetas)\n",
    "\n",
    "total_lunas = 0\n",
    "\n",
    "for luna in lunas:\n",
    "    total_lunas = total_lunas + luna\n",
    "promedio = total_lunas / nplanetas\n",
    "\n",
    "print('El promedio de lunas en los planetas es:', round(promedio,2))"
   ]
  }
 ],
 "metadata": {
  "interpreter": {
   "hash": "ea181320a2b2dcca8efe7669b3b6ea3d511fe591b008ba2961b75cbbd95bd0b4"
  },
  "kernelspec": {
   "display_name": "Python 3.9.10 64-bit (windows store)",
   "language": "python",
   "name": "python3"
  },
  "language_info": {
   "codemirror_mode": {
    "name": "ipython",
    "version": 3
   },
   "file_extension": ".py",
   "mimetype": "text/x-python",
   "name": "python",
   "nbconvert_exporter": "python",
   "pygments_lexer": "ipython3",
   "version": "3.9.10"
  },
  "orig_nbformat": 4
 },
 "nbformat": 4,
 "nbformat_minor": 2
}
