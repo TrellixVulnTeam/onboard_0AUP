{
 "cells": [
  {
   "cell_type": "code",
   "execution_count": 22,
   "metadata": {},
   "outputs": [
    {
     "name": "stdout",
     "output_type": "stream",
     "text": [
      "la distancia entre los dos planetas es: 628949330 km\n",
      "la distancia entre los dos planetas es: 390577534 millas\n"
     ]
    }
   ],
   "source": [
    "tierra = 149597870\n",
    "jupiter = 778547200\n",
    "\n",
    "distancia = (tierra - jupiter)\n",
    "millas = (abs(distancia * 0.621))\n",
    "print('la distancia entre los dos planetas es:', abs(distancia),'km')\n",
    "print('la distancia entre los dos planetas es:',round(millas),'millas')\n"
   ]
  },
  {
   "cell_type": "code",
   "execution_count": 26,
   "metadata": {},
   "outputs": [
    {
     "name": "stdout",
     "output_type": "stream",
     "text": [
      "la distancia entre los dos planetas es: 170000000 km\n",
      "la distancia entre los dos planetas es: 105570000 millas\n"
     ]
    }
   ],
   "source": [
    "p1 = int(input('Planeta 1'))\n",
    "p2 = int(input('Planeta 2'))\n",
    "\n",
    "distancia = (p1 - p2)\n",
    "millas = (abs(distancia * 0.621))\n",
    "print('la distancia entre los dos planetas es:', abs(distancia),'km')\n",
    "print('la distancia entre los dos planetas es:',round(millas),'millas')"
   ]
  }
 ],
 "metadata": {
  "interpreter": {
   "hash": "ea181320a2b2dcca8efe7669b3b6ea3d511fe591b008ba2961b75cbbd95bd0b4"
  },
  "kernelspec": {
   "display_name": "Python 3.9.10 64-bit (windows store)",
   "language": "python",
   "name": "python3"
  },
  "language_info": {
   "codemirror_mode": {
    "name": "ipython",
    "version": 3
   },
   "file_extension": ".py",
   "mimetype": "text/x-python",
   "name": "python",
   "nbconvert_exporter": "python",
   "pygments_lexer": "ipython3",
   "version": "3.9.10"
  },
  "orig_nbformat": 4
 },
 "nbformat": 4,
 "nbformat_minor": 2
}
