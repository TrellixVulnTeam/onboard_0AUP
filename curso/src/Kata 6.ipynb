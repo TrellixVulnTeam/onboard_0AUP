{
 "cells": [
  {
   "cell_type": "markdown",
   "metadata": {},
   "source": [
    "Introduccion"
   ]
  },
  {
   "cell_type": "code",
   "execution_count": 34,
   "metadata": {},
   "outputs": [
    {
     "name": "stdout",
     "output_type": "stream",
     "text": [
      "El primer planeta es Mercurio\n",
      "El segundo planeta es Venus\n",
      "El tercer planeta es Tierra \n",
      "\n",
      "Marte es conocido tambien como: El Planeta Rojo \n",
      "\n",
      "Hay 8 planetas en el sistema solar. \n",
      "\n",
      "En realidad hay 9 planetas en el sistema solar. \n",
      "\n",
      "No, siempre si hay solo 8 planetas en el sistema solar. \n",
      "\n",
      "El ultimo planeta es: Neptuno\n",
      "El penultimo planeta es: Urano \n",
      "\n",
      "Jupiter is the 5 planet from the sun\n"
     ]
    }
   ],
   "source": [
    "planetas = ['Mercurio', 'Venus', 'Tierra', 'Marte', 'Jupiter', 'Saturno', 'Urano', 'Neptuno']\n",
    "print('El primer planeta es', planetas[0])\n",
    "print('El segundo planeta es', planetas[1])\n",
    "print('El tercer planeta es', planetas[2],'\\n')\n",
    "\n",
    "planetas[3] = 'El Planeta Rojo'\n",
    "print('Marte es conocido tambien como:', planetas[3],'\\n')\n",
    "\n",
    "nplanetas = len(planetas)\n",
    "print('Hay', nplanetas, 'planetas en el sistema solar.','\\n')\n",
    "\n",
    "planetas.append('Pluto')\n",
    "nplanetas = len(planetas)\n",
    "print('En realidad hay', nplanetas, 'planetas en el sistema solar.','\\n')\n",
    "\n",
    "planetas.pop()  # Goodbye, Pluto\n",
    "nplanetas = len(planets)\n",
    "print('No, siempre si hay solo', nplanetas,\n",
    "      'planetas en el sistema solar.','\\n')\n",
    "\n",
    "print('El ultimo planeta es:', planetas[-1])\n",
    "print('El penultimo planeta es:', planetas[-2],'\\n')\n",
    "\n",
    "jupiter_index = planetas.index('Jupiter')\n",
    "print('Jupiter is the', jupiter_index + 1, 'planet from the sun')"
   ]
  },
  {
   "cell_type": "markdown",
   "metadata": {},
   "source": [
    "# Ejercicio 1"
   ]
  },
  {
   "cell_type": "code",
   "execution_count": 7,
   "metadata": {},
   "outputs": [
    {
     "name": "stdout",
     "output_type": "stream",
     "text": [
      "['Mercurio', 'Venus', 'Tierra', 'Marte', 'Jupiter', 'Saturno', 'Urano', 'Neptuno']\n",
      "\n",
      "Los planetas son:\n",
      "1 Mercurio\n",
      "2 Venus\n",
      "3 Tierra\n",
      "4 Marte\n",
      "5 Jupiter\n",
      "6 Saturno\n",
      "7 Urano\n",
      "8 Neptuno\n",
      "9 Pluton\n"
     ]
    }
   ],
   "source": [
    "planetas = ['Mercurio', 'Venus', 'Tierra', 'Marte', 'Jupiter', 'Saturno', 'Urano', 'Neptuno']\n",
    "print(planetas)\n",
    "planetas.append('Pluton')\n",
    "\n",
    "print('\\nLos planetas son:')\n",
    "for p, numerar in enumerate(planetas):\n",
    "    print(p+1, numerar)\n",
    "\n"
   ]
  },
  {
   "cell_type": "markdown",
   "metadata": {},
   "source": [
    "# Ejercicio 2"
   ]
  },
  {
   "cell_type": "code",
   "execution_count": 120,
   "metadata": {},
   "outputs": [
    {
     "name": "stdout",
     "output_type": "stream",
     "text": [
      "Los planetas mas cercanos a Marte son: ['Mercurio', 'Venus', 'Tierra']\n",
      "Y los mas alejados a Marte son: ['Jupiter', 'Saturno', 'Urano', 'Neptuno']\n"
     ]
    }
   ],
   "source": [
    "planetas = ['Mercurio', 'Venus', 'Tierra', 'Marte', 'Jupiter', 'Saturno', 'Urano', 'Neptuno']\n",
    "consulta = input('Que planeta quieres consultar?: ')\n",
    "indice = planetas.index(consulta)\n",
    "\n",
    "print('Los planetas mas cercanos a',consulta, 'son:', planetas [0:indice])\n",
    "print('Y los mas alejados a', consulta, 'son:', planetas [indice+1:])\n",
    "\n"
   ]
  },
  {
   "cell_type": "code",
   "execution_count": 121,
   "metadata": {},
   "outputs": [
    {
     "name": "stdout",
     "output_type": "stream",
     "text": [
      "El planeta Marte esta alejado del sol\n"
     ]
    }
   ],
   "source": [
    "cercanos = ['Mercurio', 'Venus', 'Tierra']\n",
    "planeta = []\n",
    "\n",
    "for c in range(1):\n",
    "    planeta.append(input('planeta: '))\n",
    "\n",
    "for p in planeta:\n",
    "    if p in cercanos:\n",
    "        print(f'El planeta {p} esta cercano al sol')\n",
    "    else:\n",
    "        print(f'El planeta {p} esta alejado del sol')\n",
    "\n"
   ]
  }
 ],
 "metadata": {
  "interpreter": {
   "hash": "ea181320a2b2dcca8efe7669b3b6ea3d511fe591b008ba2961b75cbbd95bd0b4"
  },
  "kernelspec": {
   "display_name": "Python 3.9.10 64-bit (windows store)",
   "language": "python",
   "name": "python3"
  },
  "language_info": {
   "codemirror_mode": {
    "name": "ipython",
    "version": 3
   },
   "file_extension": ".py",
   "mimetype": "text/x-python",
   "name": "python",
   "nbconvert_exporter": "python",
   "pygments_lexer": "ipython3",
   "version": "3.9.10"
  },
  "orig_nbformat": 4
 },
 "nbformat": 4,
 "nbformat_minor": 2
}
